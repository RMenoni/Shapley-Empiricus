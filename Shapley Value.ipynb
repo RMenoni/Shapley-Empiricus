{
 "cells": [
  {
   "cell_type": "markdown",
   "metadata": {},
   "source": [
    "### V Function"
   ]
  },
  {
   "cell_type": "code",
   "execution_count": null,
   "metadata": {},
   "outputs": [],
   "source": [
    "def v_function(A, C_values):\n",
    "    \"\"\"\n",
    "    Computes worth of one coalition of channels\n",
    "    :param A: a coalition of channels\n",
    "    :param C_values: dict with conversion # of each set of channels\n",
    "    :return: worth of A\n",
    "    \"\"\"\n",
    "    def subseq(seq):\n",
    "        n = len(seq)\n",
    "        for i in range(1, 2**n):\n",
    "            b = format(i, f'0{n}b')\n",
    "            s = []\n",
    "            for j in range(len(b)):\n",
    "                if int(b[-j-1]) == 1:\n",
    "                    s.append(seq[j])\n",
    "            yield s\n",
    "    worth_of_A = 0\n",
    "    for subset in subseq(A.split(',')):\n",
    "        subset.sort()\n",
    "        subset = ','.join(subset)\n",
    "        if subset in C_values.keys():\n",
    "            worth_of_A += C_values[subset]\n",
    "    return worth_of_A"
   ]
  },
  {
   "cell_type": "markdown",
   "metadata": {},
   "source": [
    "### Import dataset"
   ]
  },
  {
   "cell_type": "code",
   "execution_count": null,
   "metadata": {},
   "outputs": [],
   "source": [
    "import pandas as pd\n",
    "\n",
    "df = pd.read_csv('shapley_source.csv')\n",
    "C_values = df.set_index('copy_list').to_dict()['conversions']\n",
    "channels = [c for c in C_values.keys() if ',' not in c]\n",
    "print(sum(C_values.values()))"
   ]
  },
  {
   "cell_type": "code",
   "execution_count": null,
   "metadata": {},
   "outputs": [],
   "source": [
    "def get_v_values(C_values):\n",
    "    from collections import defaultdict\n",
    "    import os.path\n",
    "    import pickle\n",
    "    filename = 'v_values.pickle'\n",
    "    if os.path.isfile(filename):\n",
    "        with open(filename, 'rb') as file:\n",
    "            return pickle.load(file)\n",
    "    v_values = defaultdict(float)\n",
    "    count = 0\n",
    "    big = []\n",
    "    for A in C_values.keys():\n",
    "        if len(A.split(',')) > 21:\n",
    "            big.append({A: C_values[A]})\n",
    "            continue\n",
    "        count += 1\n",
    "        print(f'{count}: {A}\\r', end='')\n",
    "        v_values[A] = v_function(A, C_values)\n",
    "    print('')\n",
    "    print(v_values)\n",
    "    print(f'big = {big}')\n",
    "    with open(filename, 'wb') as file:\n",
    "        pickle.dump(v_values, file)\n",
    "    return v_values\n",
    "    \n",
    "v_values = get_v_values(C_values)\n",
    "print(v_values)"
   ]
  },
  {
   "cell_type": "code",
   "execution_count": null,
   "metadata": {},
   "outputs": [],
   "source": [
    "def shapley(channels, v_values):\n",
    "    from collections import defaultdict\n",
    "    from math import factorial\n",
    "    n = len(channels)\n",
    "    res = defaultdict(int)\n",
    "    for channel in channels:\n",
    "        for A in v_values.keys():\n",
    "            if channel not in A.split(','):\n",
    "                cardinal_A = len(A.split(','))\n",
    "                A_with_channel = A.split(',')\n",
    "                A_with_channel.append(channel)\n",
    "                A_with_channel = ','.join(sorted(A_with_channel))\n",
    "                res[channel] += (v_values[A_with_channel] - v_values[A])*(factorial(n-cardinal_A-1)/factorial(n))\n",
    "    return res"
   ]
  },
  {
   "cell_type": "code",
   "execution_count": null,
   "metadata": {},
   "outputs": [],
   "source": [
    "s = shapley(channels, v_values)\n",
    "print(s)\n",
    "print(sum(s.values()))"
   ]
  },
  {
   "cell_type": "markdown",
   "metadata": {},
   "source": [
    "### Plot Result Histogram"
   ]
  },
  {
   "cell_type": "code",
   "execution_count": null,
   "metadata": {},
   "outputs": [],
   "source": [
    "import matplotlib.pyplot as plt\n",
    "\n",
    "fig = plt.figure(figsize=(30, 10))\n",
    "ax = fig.add_subplot(111)\n",
    "ax.bar(s.keys(), s.values(), color='r')\n",
    "plt.xlabel('Copy')\n",
    "plt.ylabel('Conversions')\n",
    "plt.savefig('conversions.png', format='png')\n",
    "plt.show()"
   ]
  }
 ],
 "metadata": {
  "kernelspec": {
   "display_name": "Python 3",
   "language": "python",
   "name": "python3"
  },
  "language_info": {
   "codemirror_mode": {
    "name": "ipython",
    "version": 3
   },
   "file_extension": ".py",
   "mimetype": "text/x-python",
   "name": "python",
   "nbconvert_exporter": "python",
   "pygments_lexer": "ipython3",
   "version": "3.6.4"
  }
 },
 "nbformat": 4,
 "nbformat_minor": 2
}

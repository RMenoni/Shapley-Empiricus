{
 "cells": [
  {
   "cell_type": "markdown",
   "metadata": {},
   "source": [
    "#### Subsequence Function"
   ]
  },
  {
   "cell_type": "code",
   "execution_count": 1,
   "metadata": {},
   "outputs": [],
   "source": [
    "def subseq(seq):\n",
    "    n = len(seq)\n",
    "    for i in range(1, 2**n):\n",
    "        b = format(i, f'0{n}b')\n",
    "        s = []\n",
    "        for j in range(len(b)):\n",
    "            if int(b[-j-1]) == 1:\n",
    "                s.append(seq[j])\n",
    "        s.sort()\n",
    "        yield s"
   ]
  },
  {
   "cell_type": "markdown",
   "metadata": {},
   "source": [
    "### V Function"
   ]
  },
  {
   "cell_type": "code",
   "execution_count": 2,
   "metadata": {},
   "outputs": [],
   "source": [
    "def v_function(A, C_values):\n",
    "    \"\"\"\n",
    "    Computes worth of one coalition of channels\n",
    "    :param A: a coalition of channels\n",
    "    :param C_values: dict with conversion # of each set of channels\n",
    "    :return: worth of A\n",
    "    \"\"\"\n",
    "    worth_of_A = 0\n",
    "    for subset in subseq(A.split(',')):\n",
    "        subset.sort()\n",
    "        subset = ','.join(subset)\n",
    "        if subset in C_values.keys():\n",
    "            worth_of_A += C_values[subset]\n",
    "    return worth_of_A"
   ]
  },
  {
   "cell_type": "markdown",
   "metadata": {},
   "source": [
    "### Import dataset"
   ]
  },
  {
   "cell_type": "code",
   "execution_count": 1,
   "metadata": {},
   "outputs": [
    {
     "name": "stdout",
     "output_type": "stream",
     "text": [
      "146552\n"
     ]
    }
   ],
   "source": [
    "import pandas as pd\n",
    "\n",
    "df = pd.read_csv('shapley_source.csv')\n",
    "C_values = df.set_index('copy_list').to_dict()['conversions']\n",
    "channels = sorted([c for c in C_values.keys() if ',' not in c])\n",
    "print(sum(C_values.values()))"
   ]
  },
  {
   "cell_type": "markdown",
   "metadata": {},
   "source": [
    "### Generate V Values"
   ]
  },
  {
   "cell_type": "code",
   "execution_count": 2,
   "metadata": {},
   "outputs": [
    {
     "name": "stderr",
     "output_type": "stream",
     "text": [
      "IOPub data rate exceeded.\n",
      "The notebook server will temporarily stop sending output\n",
      "to the client in order to avoid crashing it.\n",
      "To change this limit, set the config variable\n",
      "`--NotebookApp.iopub_data_rate_limit`.\n",
      "\n",
      "Current values:\n",
      "NotebookApp.iopub_data_rate_limit=1000000.0 (bytes/sec)\n",
      "NotebookApp.rate_limit_window=3.0 (secs)\n",
      "\n"
     ]
    }
   ],
   "source": [
    "def get_v_values(channels, C_values):\n",
    "    import os.path\n",
    "    import pickle\n",
    "    filename = 'v_values.pickle'\n",
    "    if os.path.isfile(filename):\n",
    "        with open(filename, 'rb') as file:\n",
    "            return pickle.load(file)\n",
    "    v_values = {}\n",
    "    count = 0\n",
    "    for A in subseq(channels):\n",
    "        count += 1\n",
    "        A = ','.join(A)\n",
    "        print(f'{count}: {A}\\r', end='')\n",
    "        v_values[A] = v_function(A, C_values)\n",
    "    print(f'\\n{v_values}')\n",
    "    with open(filename, 'wb') as file:\n",
    "        pickle.dump(v_values, file)\n",
    "    return v_values\n",
    "    \n",
    "v_values = get_v_values(channels, C_values)\n",
    "print(v_values)"
   ]
  },
  {
   "cell_type": "code",
   "execution_count": 5,
   "metadata": {},
   "outputs": [
    {
     "name": "stdout",
     "output_type": "stream",
     "text": [
      "['bpecn', 'btc', 'bterf', 'bvosi', 'cmp', 'dx', 'eca', 'ei', 'exc', 'fn', 'mb', 'mc', 'mr', 'pe', 'ss', 'tc', 'tca', 'te', 'tp', 'vl']\n"
     ]
    }
   ],
   "source": [
    "print([k for k in v_values.keys() if ',' not in k])\n",
    "channels = sorted([k for k in v_values.keys() if ',' not in k])"
   ]
  },
  {
   "cell_type": "code",
   "execution_count": 6,
   "metadata": {},
   "outputs": [
    {
     "name": "stdout",
     "output_type": "stream",
     "text": [
      "channel 1 of 20\n",
      "channel 2 of 20\n",
      "channel 3 of 20\n",
      "channel 4 of 20\n",
      "channel 5 of 20\n",
      "channel 6 of 20\n",
      "channel 7 of 20\n",
      "channel 8 of 20\n",
      "channel 9 of 20\n",
      "channel 10 of 20\n",
      "channel 11 of 20\n",
      "channel 12 of 20\n",
      "channel 13 of 20\n",
      "channel 14 of 20\n",
      "channel 15 of 20\n",
      "channel 16 of 20\n",
      "channel 17 of 20\n",
      "channel 18 of 20\n",
      "channel 19 of 20\n",
      "channel 20 of 20\n"
     ]
    }
   ],
   "source": [
    "def shapley(channels, v_values):\n",
    "    from collections import defaultdict\n",
    "    from math import factorial\n",
    "    n = len(channels)\n",
    "    res = defaultdict(float)\n",
    "    count = 0\n",
    "    for channel in channels:\n",
    "        count += 1\n",
    "        print(f'channel {count} of {n}')\n",
    "        for A in v_values.keys():\n",
    "            A_arr = A.split(',')\n",
    "            if channel not in A_arr:\n",
    "                cardinal_A = len(A_arr)\n",
    "                A_with_channel = A_arr\n",
    "                A_with_channel.append(channel)\n",
    "                A_with_channel = ','.join(sorted(A_with_channel))\n",
    "                res[channel] += (v_values[A_with_channel] - v_values[A])*(factorial(cardinal_A)*factorial(n-cardinal_A-1)/factorial(n))\n",
    "        res[channel] += v_values[channel] / n\n",
    "    return res\n",
    "\n",
    "s = shapley(channels, v_values)"
   ]
  },
  {
   "cell_type": "code",
   "execution_count": 8,
   "metadata": {},
   "outputs": [
    {
     "name": "stdout",
     "output_type": "stream",
     "text": [
      "defaultdict(<class 'float'>,\n",
      "            {'bpecn': 642.8887560968714,\n",
      "             'btc': 996.3663170162721,\n",
      "             'bterf': 836.0386326091536,\n",
      "             'bvosi': 553.4737266818416,\n",
      "             'cmp': 12580.822571871666,\n",
      "             'dx': 1626.7384369715728,\n",
      "             'eca': 3164.0737155817937,\n",
      "             'ei': 1662.2450720031416,\n",
      "             'exc': 1642.614458172583,\n",
      "             'fn': 2206.0371715702454,\n",
      "             'mb': 2200.4096712927,\n",
      "             'mc': 1539.3435568516495,\n",
      "             'mr': 2047.7674912504988,\n",
      "             'pe': 1050.4687871768874,\n",
      "             'ss': 1159.5126405457077,\n",
      "             'tc': 17676.35932441781,\n",
      "             'tca': 7830.0099206323885,\n",
      "             'te': 1302.044322752442,\n",
      "             'tp': 846.0466509797654,\n",
      "             'vl': 896.7387755218949})\n",
      "62459.99999999688\n"
     ]
    }
   ],
   "source": [
    "#for c in channels:\n",
    "#    assert(s[c] >= C_values[c])\n",
    "from pprint import pprint\n",
    "pprint(s)\n",
    "print(sum(s.values()))"
   ]
  },
  {
   "cell_type": "markdown",
   "metadata": {},
   "source": [
    "### Plot Result Histogram"
   ]
  },
  {
   "cell_type": "code",
   "execution_count": null,
   "metadata": {},
   "outputs": [],
   "source": [
    "import matplotlib.pyplot as plt\n",
    "\n",
    "fig = plt.figure(figsize=(30, 10))\n",
    "ax = fig.add_subplot(111)\n",
    "ax.bar(s.keys(), s.values(), color='r')\n",
    "plt.title('Conversions by Shapley Value')\n",
    "plt.xlabel('Copy')\n",
    "plt.ylabel('Conversions')\n",
    "plt.savefig('conversions.png', format='png')\n",
    "plt.show()"
   ]
  }
 ],
 "metadata": {
  "kernelspec": {
   "display_name": "Python 3",
   "language": "python",
   "name": "python3"
  },
  "language_info": {
   "codemirror_mode": {
    "name": "ipython",
    "version": 3
   },
   "file_extension": ".py",
   "mimetype": "text/x-python",
   "name": "python",
   "nbconvert_exporter": "python",
   "pygments_lexer": "ipython3",
   "version": "3.6.4"
  }
 },
 "nbformat": 4,
 "nbformat_minor": 2
}
